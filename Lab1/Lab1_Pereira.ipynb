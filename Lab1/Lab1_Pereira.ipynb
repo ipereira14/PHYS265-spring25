{
 "cells": [
  {
   "cell_type": "markdown",
   "id": "1c8918fe-a4c9-40f8-886e-cc39872f4edd",
   "metadata": {},
   "source": [
    "# Part 1: The Gravitational Potential of the Earth"
   ]
  },
  {
   "cell_type": "code",
   "execution_count": null,
   "id": "4ecb8be1-dfd7-4c54-9c57-00b9250af411",
   "metadata": {
    "jp-MarkdownHeadingCollapsed": true
   },
   "outputs": [],
   "source": [
    "# Part 1\n",
    "import numpy as np\n",
    "import matplotlib.pyplot as plt\n",
    "import matplotlib.colors as colors\n",
    "from scipy.integrate import quad"
   ]
  },
  {
   "cell_type": "code",
   "execution_count": null,
   "id": "70e87a4e-f66f-46c2-b99b-903ac670c315",
   "metadata": {
    "editable": true,
    "jp-MarkdownHeadingCollapsed": true,
    "slideshow": {
     "slide_type": ""
    },
    "tags": []
   },
   "outputs": [],
   "source": [
    "# Defining Variables\n",
    "G = 6.67*10**(-11)           # Graviational Constant m^3/kg/s^2\n",
    "massEarth = 5.9*10**24       # kg\n",
    "radiusEarth = 6.378*10*6     # m\n",
    "distEarthToMoon = 3.8*10**8  # m\n",
    "# Number 1: Defining a function\n",
    "def gravPotential(M, xM, yM, x, y):\n",
    "    r = np.sqrt((x-xM)**2 + (y-yM)**2)\n",
    "    return -G*M/r\n",
    "    \n",
    "# Number 2: 1D Plot, Figure 1\n",
    "xVals = np.linspace(radiusEarth, 1.5*distEarthToMoon, 1000)\n",
    "potential = np.abs(gravPotential(massEarth, 0, 0 , xVals, np.zeros_like(xVals)))\n",
    "fig, ax= plt.subplots()\n",
    "ax.plot(xVals, potential, color='r', linewidth=2)\n",
    "ax.set_title(\"Gravitational Potential vs. Distance(m)\", fontsize=15)\n",
    "ax.set_xlabel(\"Distance from the Earth's Surface (m)\", fontsize=12)\n",
    "ax.set_ylabel(r'$|\\Phi|$ (m²/s²)', fontsize=12)\n",
    "ax.set_yscale(\"log\") # only making the y axis logarithmic since potential falls fast with r\n",
    "ax.grid()\n",
    "\n",
    "# Number 3: 2D Mesh Plot, Figure 2\n",
    "#Variables\n",
    "grid_size = 500\n",
    "xRange = np.linspace(-1.5 * distEarthToMoon, 1.5 * distEarthToMoon, grid_size)\n",
    "yRange = np.linspace(-1.5 * distEarthToMoon, 1.5 * distEarthToMoon, grid_size)\n",
    "X, Y = np.meshgrid(xRange, yRange)\n",
    "Phi = np.abs(gravPotential(massEarth, 0, 0, X, Y))\n",
    "\n",
    "fig, ax2=plt.subplots()\n",
    "mesh = ax2.pcolormesh(X, Y, Phi, shading='auto', norm=plt.matplotlib.colors.LogNorm(), cmap='magma')\n",
    "cbar = fig.colorbar(mesh, ax=ax2) # add variables\n",
    "cbar.ax.set_xlabel(r'$|\\Phi|$(m²/s²)', labelpad=17, fontsize=10, loc='center')\n",
    "ax2.set_xlabel(\"x (m)\", fontsize=12)\n",
    "ax2.set_ylabel(\"y (m)\", fontsize=12)\n",
    "ax2.set_title(\"Logarithmic Plot of Gravitational Potential with Earth at the Origin\", fontsize=13, loc='center')\n",
    "ax2.set_aspect('equal')"
   ]
  },
  {
   "cell_type": "markdown",
   "id": "2f7ad2ad-c9c9-4d89-bff4-5b9450466981",
   "metadata": {},
   "source": [
    "# Part 2: The Gravitational Potential of the Earth-Moon System"
   ]
  },
  {
   "cell_type": "code",
   "execution_count": null,
   "id": "11547753-9c10-4d91-a9de-8ae6783de625",
   "metadata": {},
   "outputs": [],
   "source": [
    "#Variables\n",
    "# Where Earth is at (0,0), moon at \n",
    "xMoon = distEarthToMoon/np.sqrt(2)\n",
    "yMoon = distEarthToMoon/np.sqrt(2)\n",
    "massMoon = 7.3*10**22 #kg\n",
    "phiEarth = gravPotential(massEarth, 0, 0, X, Y)\n",
    "phiMoon = gravPotential(massMoon, xMoon, yMoon, X, Y)\n",
    "phiTotal = np.abs(phiEarth + phiMoon)\n",
    "\n",
    "# Numeber 1, Figure 3\n",
    "fig, ax1 = plt.subplots()\n",
    "mesh = ax1.pcolormesh(X,Y, phiTotal, norm=colors.LogNorm(), cmap = 'plasma')\n",
    "cbar = fig.colorbar(mesh, ax=ax1)\n",
    "cbar.ax.set_xlabel(r'$|\\Phi|$ (m²/s²)', fontsize = 10)\n",
    "ax1.set_xlabel(\"x (m)\")\n",
    "ax1.set_ylabel(\"y (m)\")\n",
    "ax1.set_title(\"Gravitational Potential of the Earth-Moon System\")\n",
    "ax1.set_aspect('equal')\n",
    "\n",
    "#Number 2, Figure 4\n",
    "fig, ax3 = plt.subplots(figsize=(8, 8))\n",
    "contour = ax3.contourf(X, Y, phiTotal, levels=30, norm=colors.LogNorm(), cmap='viridis')\n",
    "cbar = fig.colorbar(contour, ax=ax3, pad=0.1)\n",
    "cbar.ax.set_xlabel(r'$|\\Phi|$ (m²/s²)', fontsize=9)\n",
    "ax3.set_xlabel(\"x (m)\")\n",
    "ax3.set_ylabel(\"y (m)\")\n",
    "ax3.set_title(\"Contour Plot of Gravitational Potential\", fontsize=15)\n",
    "ax3.set_aspect('equal')"
   ]
  },
  {
   "cell_type": "markdown",
   "id": "16880072-39b2-4d67-b4e7-6cba91ea589e",
   "metadata": {},
   "source": [
    "# Part 3: The Gravitational Force Field of the Earth-Moon System"
   ]
  },
  {
   "cell_type": "code",
   "execution_count": null,
   "id": "1c073aa1-7875-43ce-ab95-a8c22c1f02e6",
   "metadata": {
    "scrolled": true
   },
   "outputs": [],
   "source": [
    "# Number 1: Function\n",
    "def gravForce2(M1,x1,y1,x2,y2):\n",
    "    dx = x2-x1\n",
    "    dy= y2-y1\n",
    "    r21 =  dx**2 + dy**2\n",
    "    # avoiding the possibility of 0\n",
    "    if r21< 1e6:\n",
    "        return 0, 0\n",
    "    fMag = G * M1 / r21\n",
    "    r = np.sqrt(r21)\n",
    "    Fx = fMag * dx / r\n",
    "    Fy = fMag * dy / r\n",
    "    return Fx, Fy\n",
    "    \n",
    "# Making the grid\n",
    "N = 30\n",
    "xRange2 = np.linspace(-1.5 * distEarthToMoon, 1.5 * distEarthToMoon, N)\n",
    "yRange2 = np.linspace(-1.5 * distEarthToMoon, 1.5 * distEarthToMoon, N)\n",
    "X2, Y2 = np.meshgrid(xRange2, yRange2)\n",
    "FxTotal = np.zeros_like(X2)\n",
    "FyTotal = np.zeros_like(Y2)\n",
    "for i in range(N):\n",
    "    for j in range(N):\n",
    "        FxEarth, FyEarth = gravForce2(massEarth, 0, 0, X2[i,j], Y2[i,j])\n",
    "        FxMoon, FyMoon = gravForce2(massMoon, 0, 0, X2[i,j], Y2[i,j])\n",
    "        FxTotal[i,j] = FxEarth + FxMoon\n",
    "        FyTotal[i,j] = FyEarth + FyMoon\n",
    "fMagnitude = np.sqrt(FxTotal**2 + FyTotal**2)\n",
    "fMagnitude[fMagnitude == 0] = np.min(fMagnitude[fMagnitude > 0])  # Preventing log(0)\n",
    "\n",
    "# Number 2: Plotting, Figure 5\n",
    "fig, ax = plt.subplots()\n",
    "stream = ax.streamplot(X2, Y2, FxTotal, FyTotal, color=np.log(fMagnitude), cmap ='viridis')\n",
    "ax.scatter(0,0, color='green', s=200, label ='Earth') # Making earth seem bigger, proportional\n",
    "ax.scatter(xMoon, yMoon, color ='grey', s=100, label = 'Moon')\n",
    "ax.legend(loc = 'lower left')\n",
    "cbar = plt.colorbar(stream.lines, ax=ax, pad=0.1)\n",
    "cbar.ax.set_xlabel(\"log\\nForce Magnitude\\n(N)\", fontsize=8.5)\n",
    "ax.set_title(\"Gravitational Force Field of the Earth-Moon System\", fontsize=14)\n",
    "ax.set_xlabel(\"x (m)\", fontsize=12)\n",
    "ax.set_ylabel(\"y (m)\", fontsize=12)\n",
    "ax.set_xlim([-1.5 * distEarthToMoon, 1.5 * distEarthToMoon])\n",
    "ax.set_ylim([-1.5 * distEarthToMoon, 1.5 * distEarthToMoon])\n",
    "ax.set_aspect(\"equal\")"
   ]
  },
  {
   "cell_type": "markdown",
   "id": "748c9525-f4f2-4204-9065-cc918c08a42b",
   "metadata": {},
   "source": [
    "# Part 4: Altitude of the Saturn V Rocket"
   ]
  },
  {
   "cell_type": "code",
   "execution_count": null,
   "id": "7a5be208-b452-4b60-9772-f4633122fe51",
   "metadata": {},
   "outputs": [],
   "source": [
    "# Variables\n",
    "m0 = 2.8 * 10**6     # Inital mass kg\n",
    "vEarth = 2.4*10**3   # Exhaust velocity m/s\n",
    "mf = 7.5*10**5       # Final mass kg\n",
    "mDot = 1.3*10**4     # Burn rate kg/s\n",
    "g = 9.81 # Gravitational Acceleration m/s^2\n",
    "# Number 1: Calculate burn time\n",
    "T = (m0-mf)/mDot\n",
    "# Number 2: Function\n",
    "def deltaV(t, m0,mf,mDot, vEarth, g):\n",
    "    m_t = m0 - mDot*t\n",
    "    if m_t <= mf:\n",
    "        return 0 # No remaining fuel\n",
    "    return vEarth * np.log(m0/m_t)-g*t\n",
    "    \n",
    "# Number 3: Compute altitude at the end of the burn\n",
    "h, _ = quad(deltaV, 0, T, args=(m0, mf, mDot, vEarth, g))\n",
    "\n",
    "print(f\"Burn time is {T:.2f} seconds\")\n",
    "print(f\"Altitude at burnout is {(h/1000):.2f} kilometers\")"
   ]
  }
 ],
 "metadata": {
  "kernelspec": {
   "display_name": "Python 3 (ipykernel)",
   "language": "python",
   "name": "python3"
  },
  "language_info": {
   "codemirror_mode": {
    "name": "ipython",
    "version": 3
   },
   "file_extension": ".py",
   "mimetype": "text/x-python",
   "name": "python",
   "nbconvert_exporter": "python",
   "pygments_lexer": "ipython3",
   "version": "3.12.5"
  }
 },
 "nbformat": 4,
 "nbformat_minor": 5
}
